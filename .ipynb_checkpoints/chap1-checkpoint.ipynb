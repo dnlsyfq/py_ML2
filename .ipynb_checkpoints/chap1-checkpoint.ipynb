{
 "cells": [
  {
   "cell_type": "markdown",
   "metadata": {},
   "source": [
    "# ML : K Nearest Neighbours"
   ]
  },
  {
   "cell_type": "markdown",
   "metadata": {},
   "source": [
    "AirBnB strategy:\n",
    "\n",
    "* find a few listings that are similar to ours,\n",
    "* average the listed price for the ones most similar to ours,\n",
    "* set our listing price to this calculated average price."
   ]
  },
  {
   "cell_type": "markdown",
   "metadata": {},
   "source": [
    "Similarity Metric \n",
    "* comparing numerical features ( observations) \n",
    "* predicit a continous value , Euclidean Distance\n",
    "\n",
    "\n",
    "\n",
    "$ d = \\sqrt{(q_1 - p_1)^2 + (q_2 - p_2)^2 + ... + (q_n - p_n)^2} $\n",
    "\n",
    "\n",
    "</br>\n",
    "\n",
    "\n",
    "<img src=\"img/euclidean_distance_five_features.png\">"
   ]
  },
  {
   "cell_type": "markdown",
   "metadata": {},
   "source": [
    "### Univariate KNN\n",
    "\n",
    "$ d = \\sqrt{(q_1 - p_1})^2 $\n",
    "\n",
    "<br>\n",
    "$ d = |q_1 - p_1| $"
   ]
  },
  {
   "cell_type": "code",
   "execution_count": 1,
   "metadata": {},
   "outputs": [],
   "source": [
    "import pandas as pd"
   ]
  },
  {
   "cell_type": "code",
   "execution_count": 2,
   "metadata": {},
   "outputs": [],
   "source": [
    "dc_listings = pd.read_csv('dc_airbnb.csv')"
   ]
  },
  {
   "cell_type": "code",
   "execution_count": 3,
   "metadata": {},
   "outputs": [
    {
     "name": "stdout",
     "output_type": "stream",
     "text": [
      "     host_response_rate host_acceptance_rate  host_listings_count  \\\n",
      "0                   92%                  91%                   26   \n",
      "1                   90%                 100%                    1   \n",
      "2                   90%                 100%                    2   \n",
      "3                  100%                  NaN                    1   \n",
      "4                   92%                  67%                    1   \n",
      "...                 ...                  ...                  ...   \n",
      "3718               100%                  60%                    1   \n",
      "3719               100%                  50%                    1   \n",
      "3720               100%                 100%                    2   \n",
      "3721                88%                 100%                    1   \n",
      "3722                70%                 100%                    1   \n",
      "\n",
      "      accommodates        room_type  bedrooms  bathrooms  beds    price  \\\n",
      "0                4  Entire home/apt       1.0        1.0   2.0  $160.00   \n",
      "1                6  Entire home/apt       3.0        3.0   3.0  $350.00   \n",
      "2                1     Private room       1.0        2.0   1.0   $50.00   \n",
      "3                2     Private room       1.0        1.0   1.0   $95.00   \n",
      "4                4  Entire home/apt       1.0        1.0   1.0   $50.00   \n",
      "...            ...              ...       ...        ...   ...      ...   \n",
      "3718             4  Entire home/apt       1.0        1.0   2.0  $135.00   \n",
      "3719             2     Private room       1.0        2.0   1.0   $79.00   \n",
      "3720             6  Entire home/apt       2.0        1.0   3.0  $275.00   \n",
      "3721             2  Entire home/apt       1.0        1.0   1.0  $179.00   \n",
      "3722             3  Entire home/apt       0.0        1.0   1.0  $110.00   \n",
      "\n",
      "     cleaning_fee security_deposit  minimum_nights  maximum_nights  \\\n",
      "0         $115.00          $100.00               1            1125   \n",
      "1         $100.00              NaN               2              30   \n",
      "2             NaN              NaN               2            1125   \n",
      "3             NaN              NaN               1            1125   \n",
      "4          $15.00          $450.00               7            1125   \n",
      "...           ...              ...             ...             ...   \n",
      "3718       $45.00          $400.00               3              60   \n",
      "3719          NaN              NaN               3             365   \n",
      "3720      $100.00          $500.00               2      2147483647   \n",
      "3721       $25.00              NaN               2              21   \n",
      "3722       $40.00          $200.00               2            1125   \n",
      "\n",
      "      number_of_reviews   latitude  longitude           city zipcode state  \n",
      "0                     0  38.890046 -77.002808     Washington   20003    DC  \n",
      "1                    65  38.880413 -76.990485     Washington   20003    DC  \n",
      "2                     1  38.955291 -76.986006    Hyattsville   20782    MD  \n",
      "3                     0  38.872134 -77.019639     Washington   20024    DC  \n",
      "4                     0  38.996382 -77.041541  Silver Spring   20910    MD  \n",
      "...                 ...        ...        ...            ...     ...   ...  \n",
      "3718                 19  38.885492 -76.987765     Washington   20003    DC  \n",
      "3719                 36  38.889401 -76.986646     Washington   20003    DC  \n",
      "3720                 12  38.889533 -77.001010     Washington   20003    DC  \n",
      "3721                 48  38.890815 -77.002283     Washington   20002    DC  \n",
      "3722                  1  38.883646 -76.999810     Washington   20003    DC  \n",
      "\n",
      "[3723 rows x 19 columns]\n"
     ]
    }
   ],
   "source": [
    "print(dc_listings)"
   ]
  },
  {
   "cell_type": "code",
   "execution_count": 4,
   "metadata": {},
   "outputs": [],
   "source": [
    "import numpy as np"
   ]
  },
  {
   "cell_type": "code",
   "execution_count": 5,
   "metadata": {},
   "outputs": [
    {
     "name": "stdout",
     "output_type": "stream",
     "text": [
      "1\n"
     ]
    }
   ],
   "source": [
    "our_living_space = 3\n",
    "first_living_space_value = dc_listings['accommodates'][0]\n",
    "first_distance = np.abs(our_living_space - first_living_space_value)\n",
    "print(first_distance) # The closer to 0 the distance the more similar the living spaces are."
   ]
  },
  {
   "cell_type": "markdown",
   "metadata": {},
   "source": [
    "we can rank the existing living spaces by ascending distance values, the proxy for similarity."
   ]
  },
  {
   "cell_type": "code",
   "execution_count": 6,
   "metadata": {},
   "outputs": [
    {
     "data": {
      "text/plain": [
       "1     2294\n",
       "2      503\n",
       "0      461\n",
       "3      279\n",
       "5       73\n",
       "4       35\n",
       "7       22\n",
       "6       17\n",
       "9       12\n",
       "13       8\n",
       "8        7\n",
       "12       6\n",
       "11       4\n",
       "10       2\n",
       "Name: distance, dtype: int64"
      ]
     },
     "execution_count": 6,
     "metadata": {},
     "output_type": "execute_result"
    }
   ],
   "source": [
    "dc_listings['distance'] = np.abs(dc_listings['accommodates'] - our_living_space)\n",
    "\n",
    "dc_listings['distance'].value_counts()"
   ]
  },
  {
   "cell_type": "code",
   "execution_count": 7,
   "metadata": {},
   "outputs": [
    {
     "data": {
      "text/plain": [
       "26      3\n",
       "34      3\n",
       "36      3\n",
       "40      3\n",
       "44      3\n",
       "       ..\n",
       "3675    3\n",
       "3697    3\n",
       "3707    3\n",
       "3714    3\n",
       "3722    3\n",
       "Name: accommodates, Length: 461, dtype: int64"
      ]
     },
     "execution_count": 7,
     "metadata": {},
     "output_type": "execute_result"
    }
   ],
   "source": [
    "np.random.seed(1)\n",
    "dc_listings[dc_listings['distance']==0]['accommodates']"
   ]
  },
  {
   "cell_type": "code",
   "execution_count": 8,
   "metadata": {},
   "outputs": [],
   "source": [
    "dc_listings = dc_listings.loc[np.random.permutation(len(dc_listings))]\n"
   ]
  },
  {
   "cell_type": "code",
   "execution_count": 9,
   "metadata": {},
   "outputs": [],
   "source": [
    "dc_listings = dc_listings.sort_values(by='distance')"
   ]
  },
  {
   "cell_type": "code",
   "execution_count": 10,
   "metadata": {},
   "outputs": [
    {
     "data": {
      "text/html": [
       "<div>\n",
       "<style scoped>\n",
       "    .dataframe tbody tr th:only-of-type {\n",
       "        vertical-align: middle;\n",
       "    }\n",
       "\n",
       "    .dataframe tbody tr th {\n",
       "        vertical-align: top;\n",
       "    }\n",
       "\n",
       "    .dataframe thead th {\n",
       "        text-align: right;\n",
       "    }\n",
       "</style>\n",
       "<table border=\"1\" class=\"dataframe\">\n",
       "  <thead>\n",
       "    <tr style=\"text-align: right;\">\n",
       "      <th></th>\n",
       "      <th>host_response_rate</th>\n",
       "      <th>host_acceptance_rate</th>\n",
       "      <th>host_listings_count</th>\n",
       "      <th>accommodates</th>\n",
       "      <th>room_type</th>\n",
       "      <th>bedrooms</th>\n",
       "      <th>bathrooms</th>\n",
       "      <th>beds</th>\n",
       "      <th>price</th>\n",
       "      <th>cleaning_fee</th>\n",
       "      <th>security_deposit</th>\n",
       "      <th>minimum_nights</th>\n",
       "      <th>maximum_nights</th>\n",
       "      <th>number_of_reviews</th>\n",
       "      <th>latitude</th>\n",
       "      <th>longitude</th>\n",
       "      <th>city</th>\n",
       "      <th>zipcode</th>\n",
       "      <th>state</th>\n",
       "      <th>distance</th>\n",
       "    </tr>\n",
       "  </thead>\n",
       "  <tbody>\n",
       "    <tr>\n",
       "      <th>577</th>\n",
       "      <td>98%</td>\n",
       "      <td>52%</td>\n",
       "      <td>49</td>\n",
       "      <td>3</td>\n",
       "      <td>Private room</td>\n",
       "      <td>1.0</td>\n",
       "      <td>1.0</td>\n",
       "      <td>2.0</td>\n",
       "      <td>$185.00</td>\n",
       "      <td>NaN</td>\n",
       "      <td>NaN</td>\n",
       "      <td>2</td>\n",
       "      <td>14</td>\n",
       "      <td>1</td>\n",
       "      <td>38.908356</td>\n",
       "      <td>-77.028146</td>\n",
       "      <td>Washington</td>\n",
       "      <td>20005</td>\n",
       "      <td>DC</td>\n",
       "      <td>0</td>\n",
       "    </tr>\n",
       "    <tr>\n",
       "      <th>2166</th>\n",
       "      <td>100%</td>\n",
       "      <td>89%</td>\n",
       "      <td>2</td>\n",
       "      <td>3</td>\n",
       "      <td>Entire home/apt</td>\n",
       "      <td>1.0</td>\n",
       "      <td>1.0</td>\n",
       "      <td>1.0</td>\n",
       "      <td>$180.00</td>\n",
       "      <td>NaN</td>\n",
       "      <td>$100.00</td>\n",
       "      <td>1</td>\n",
       "      <td>14</td>\n",
       "      <td>10</td>\n",
       "      <td>38.905808</td>\n",
       "      <td>-77.000012</td>\n",
       "      <td>Washington</td>\n",
       "      <td>20002</td>\n",
       "      <td>DC</td>\n",
       "      <td>0</td>\n",
       "    </tr>\n",
       "    <tr>\n",
       "      <th>3631</th>\n",
       "      <td>98%</td>\n",
       "      <td>52%</td>\n",
       "      <td>49</td>\n",
       "      <td>3</td>\n",
       "      <td>Entire home/apt</td>\n",
       "      <td>1.0</td>\n",
       "      <td>1.0</td>\n",
       "      <td>2.0</td>\n",
       "      <td>$175.00</td>\n",
       "      <td>NaN</td>\n",
       "      <td>NaN</td>\n",
       "      <td>3</td>\n",
       "      <td>14</td>\n",
       "      <td>1</td>\n",
       "      <td>38.889065</td>\n",
       "      <td>-76.993576</td>\n",
       "      <td>Washington</td>\n",
       "      <td>20003</td>\n",
       "      <td>DC</td>\n",
       "      <td>0</td>\n",
       "    </tr>\n",
       "    <tr>\n",
       "      <th>71</th>\n",
       "      <td>100%</td>\n",
       "      <td>94%</td>\n",
       "      <td>1</td>\n",
       "      <td>3</td>\n",
       "      <td>Entire home/apt</td>\n",
       "      <td>1.0</td>\n",
       "      <td>1.0</td>\n",
       "      <td>1.0</td>\n",
       "      <td>$128.00</td>\n",
       "      <td>$40.00</td>\n",
       "      <td>NaN</td>\n",
       "      <td>1</td>\n",
       "      <td>1125</td>\n",
       "      <td>9</td>\n",
       "      <td>38.879960</td>\n",
       "      <td>-77.006491</td>\n",
       "      <td>Washington</td>\n",
       "      <td>20003</td>\n",
       "      <td>DC</td>\n",
       "      <td>0</td>\n",
       "    </tr>\n",
       "    <tr>\n",
       "      <th>1011</th>\n",
       "      <td>NaN</td>\n",
       "      <td>NaN</td>\n",
       "      <td>1</td>\n",
       "      <td>3</td>\n",
       "      <td>Entire home/apt</td>\n",
       "      <td>0.0</td>\n",
       "      <td>1.0</td>\n",
       "      <td>1.0</td>\n",
       "      <td>$115.00</td>\n",
       "      <td>NaN</td>\n",
       "      <td>NaN</td>\n",
       "      <td>1</td>\n",
       "      <td>1125</td>\n",
       "      <td>0</td>\n",
       "      <td>38.907382</td>\n",
       "      <td>-77.035075</td>\n",
       "      <td>Washington</td>\n",
       "      <td>20005</td>\n",
       "      <td>DC</td>\n",
       "      <td>0</td>\n",
       "    </tr>\n",
       "  </tbody>\n",
       "</table>\n",
       "</div>"
      ],
      "text/plain": [
       "     host_response_rate host_acceptance_rate  host_listings_count  \\\n",
       "577                 98%                  52%                   49   \n",
       "2166               100%                  89%                    2   \n",
       "3631                98%                  52%                   49   \n",
       "71                 100%                  94%                    1   \n",
       "1011                NaN                  NaN                    1   \n",
       "\n",
       "      accommodates        room_type  bedrooms  bathrooms  beds    price  \\\n",
       "577              3     Private room       1.0        1.0   2.0  $185.00   \n",
       "2166             3  Entire home/apt       1.0        1.0   1.0  $180.00   \n",
       "3631             3  Entire home/apt       1.0        1.0   2.0  $175.00   \n",
       "71               3  Entire home/apt       1.0        1.0   1.0  $128.00   \n",
       "1011             3  Entire home/apt       0.0        1.0   1.0  $115.00   \n",
       "\n",
       "     cleaning_fee security_deposit  minimum_nights  maximum_nights  \\\n",
       "577           NaN              NaN               2              14   \n",
       "2166          NaN          $100.00               1              14   \n",
       "3631          NaN              NaN               3              14   \n",
       "71         $40.00              NaN               1            1125   \n",
       "1011          NaN              NaN               1            1125   \n",
       "\n",
       "      number_of_reviews   latitude  longitude        city zipcode state  \\\n",
       "577                   1  38.908356 -77.028146  Washington   20005    DC   \n",
       "2166                 10  38.905808 -77.000012  Washington   20002    DC   \n",
       "3631                  1  38.889065 -76.993576  Washington   20003    DC   \n",
       "71                    9  38.879960 -77.006491  Washington   20003    DC   \n",
       "1011                  0  38.907382 -77.035075  Washington   20005    DC   \n",
       "\n",
       "      distance  \n",
       "577          0  \n",
       "2166         0  \n",
       "3631         0  \n",
       "71           0  \n",
       "1011         0  "
      ]
     },
     "execution_count": 10,
     "metadata": {},
     "output_type": "execute_result"
    }
   ],
   "source": [
    "dc_listings.head()"
   ]
  },
  {
   "cell_type": "code",
   "execution_count": 11,
   "metadata": {},
   "outputs": [
    {
     "data": {
      "text/plain": [
       "577     $185.00\n",
       "2166    $180.00\n",
       "3631    $175.00\n",
       "71      $128.00\n",
       "1011    $115.00\n",
       "380     $219.00\n",
       "943     $125.00\n",
       "3107    $250.00\n",
       "1499     $94.00\n",
       "625     $150.00\n",
       "Name: price, dtype: object"
      ]
     },
     "execution_count": 11,
     "metadata": {},
     "output_type": "execute_result"
    }
   ],
   "source": [
    "dc_listings['price'].head(10)"
   ]
  },
  {
   "cell_type": "code",
   "execution_count": 12,
   "metadata": {},
   "outputs": [],
   "source": [
    " dc_listings['price'] = dc_listings['price'].str.replace('$','').str.replace(',','').astype('float')"
   ]
  },
  {
   "cell_type": "code",
   "execution_count": 13,
   "metadata": {},
   "outputs": [
    {
     "data": {
      "text/plain": [
       "156.6"
      ]
     },
     "execution_count": 13,
     "metadata": {},
     "output_type": "execute_result"
    }
   ],
   "source": [
    "mean_price = dc_listings['price'][:5].mean()\n",
    "mean_price"
   ]
  },
  {
   "cell_type": "code",
   "execution_count": 14,
   "metadata": {},
   "outputs": [],
   "source": [
    "def predict_price(new_listing):\n",
    "    temp_df = dc_listings.copy()\n",
    "    temp_df['distance'] = np.abs(temp_df['accommodates'] - new_listing)\n",
    "    temp_df = temp_df.sort_values(by='distance')\n",
    "    return temp_df['price'][:5].mean()"
   ]
  },
  {
   "cell_type": "code",
   "execution_count": 15,
   "metadata": {},
   "outputs": [
    {
     "data": {
      "text/plain": [
       "78.8"
      ]
     },
     "execution_count": 15,
     "metadata": {},
     "output_type": "execute_result"
    }
   ],
   "source": [
    "predict_price(1)"
   ]
  },
  {
   "cell_type": "code",
   "execution_count": 16,
   "metadata": {},
   "outputs": [
    {
     "data": {
      "text/plain": [
       "126.0"
      ]
     },
     "execution_count": 16,
     "metadata": {},
     "output_type": "execute_result"
    }
   ],
   "source": [
    "predict_price(2)"
   ]
  },
  {
   "cell_type": "code",
   "execution_count": 17,
   "metadata": {},
   "outputs": [
    {
     "data": {
      "text/plain": [
       "194.8"
      ]
     },
     "execution_count": 17,
     "metadata": {},
     "output_type": "execute_result"
    }
   ],
   "source": [
    "predict_price(3)"
   ]
  },
  {
   "cell_type": "markdown",
   "metadata": {},
   "source": [
    "---\n",
    "\n",
    "Evaluating Model Performace\n",
    "\n"
   ]
  },
  {
   "cell_type": "code",
   "execution_count": 18,
   "metadata": {},
   "outputs": [],
   "source": [
    "dc_listings = pd.read_csv(\"dc_airbnb.csv\")\n",
    "stripped_commas = dc_listings['price'].str.replace(',', '')\n",
    "stripped_dollars = stripped_commas.str.replace('$', '')\n",
    "dc_listings['price'] = stripped_dollars.astype('float')"
   ]
  },
  {
   "cell_type": "code",
   "execution_count": 19,
   "metadata": {},
   "outputs": [],
   "source": [
    "train_df = dc_listings.iloc[0:2792]\n",
    "test_df = dc_listings.iloc[2792:]"
   ]
  },
  {
   "cell_type": "code",
   "execution_count": 20,
   "metadata": {},
   "outputs": [
    {
     "name": "stderr",
     "output_type": "stream",
     "text": [
      "C:\\Users\\Dan\\AppData\\Local\\Programs\\Python\\Python36\\lib\\site-packages\\ipykernel_launcher.py:9: SettingWithCopyWarning: \n",
      "A value is trying to be set on a copy of a slice from a DataFrame.\n",
      "Try using .loc[row_indexer,col_indexer] = value instead\n",
      "\n",
      "See the caveats in the documentation: https://pandas.pydata.org/pandas-docs/stable/user_guide/indexing.html#returning-a-view-versus-a-copy\n",
      "  if __name__ == '__main__':\n"
     ]
    }
   ],
   "source": [
    "\n",
    "def predict_price(new_listing):\n",
    "    temp_df = train_df.copy()\n",
    "    temp_df['distance'] = temp_df['accommodates'].apply(lambda x: np.abs(x - new_listing))\n",
    "    temp_df = temp_df.sort_values('distance')\n",
    "    nearest_neighbor_prices = temp_df.iloc[0:5]['price']\n",
    "    predicted_price = nearest_neighbor_prices.mean()\n",
    "    return(predicted_price)\n",
    "\n",
    "test_df['predicted_price'] = test_df['accommodates'].apply(predict_price)"
   ]
  },
  {
   "cell_type": "code",
   "execution_count": null,
   "metadata": {},
   "outputs": [],
   "source": []
  },
  {
   "cell_type": "markdown",
   "metadata": {},
   "source": [
    "Error metric\n",
    "\n",
    "* quantifies how good the predictions on test set \n",
    "* error metric quantifies how inaccurate our predictions were from the actual values\n",
    "* low error metric means that the gap between the predicted list price and actual list price values is low while a high error metric means the gap is high.\n",
    "\n",
    "\n",
    "mean absolute error\n",
    "\n",
    "$MAE$ = $\\frac{1}{n} \\sum_{k=1}^n |(actual_1 - predicted_1)| + ... + |(actual_n - predicted_n)|$\n",
    "\n"
   ]
  },
  {
   "cell_type": "code",
   "execution_count": 21,
   "metadata": {},
   "outputs": [
    {
     "data": {
      "text/plain": [
       "56.29001074113856"
      ]
     },
     "execution_count": 21,
     "metadata": {},
     "output_type": "execute_result"
    }
   ],
   "source": [
    "mae = np.sum(np.abs(test_df['predicted_price'] - test_df['price']))/len(test_df)\n",
    "mae"
   ]
  },
  {
   "cell_type": "markdown",
   "metadata": {},
   "source": [
    "mean squared error\n",
    "\n",
    "$mse = \\frac{1}{n} \\sum_{k=1}^n (actual_1 - predicted_1)^2 + ... +(actual_n - predicted_n)^2$"
   ]
  },
  {
   "cell_type": "code",
   "execution_count": 22,
   "metadata": {},
   "outputs": [
    {
     "data": {
      "text/plain": [
       "18646.525370569278"
      ]
     },
     "execution_count": 22,
     "metadata": {},
     "output_type": "execute_result"
    }
   ],
   "source": [
    "mse = np.sum((test_df['price'] - test_df['predicted_price'])**2)/len(test_df)\n",
    "mse"
   ]
  },
  {
   "cell_type": "code",
   "execution_count": 23,
   "metadata": {},
   "outputs": [
    {
     "name": "stdout",
     "output_type": "stream",
     "text": [
      "18405.44408163265\n"
     ]
    },
    {
     "name": "stderr",
     "output_type": "stream",
     "text": [
      "C:\\Users\\Dan\\AppData\\Local\\Programs\\Python\\Python36\\lib\\site-packages\\ipykernel_launcher.py:12: SettingWithCopyWarning: \n",
      "A value is trying to be set on a copy of a slice from a DataFrame.\n",
      "Try using .loc[row_indexer,col_indexer] = value instead\n",
      "\n",
      "See the caveats in the documentation: https://pandas.pydata.org/pandas-docs/stable/user_guide/indexing.html#returning-a-view-versus-a-copy\n",
      "  if sys.path[0] == '':\n",
      "C:\\Users\\Dan\\AppData\\Local\\Programs\\Python\\Python36\\lib\\site-packages\\ipykernel_launcher.py:14: SettingWithCopyWarning: \n",
      "A value is trying to be set on a copy of a slice from a DataFrame.\n",
      "Try using .loc[row_indexer,col_indexer] = value instead\n",
      "\n",
      "See the caveats in the documentation: https://pandas.pydata.org/pandas-docs/stable/user_guide/indexing.html#returning-a-view-versus-a-copy\n",
      "  \n"
     ]
    }
   ],
   "source": [
    "train_df = dc_listings.iloc[0:2792]\n",
    "test_df = dc_listings.iloc[2792:]\n",
    "\n",
    "def predict_price(new_listing):\n",
    "    temp_df = train_df.copy()\n",
    "    temp_df['distance'] = temp_df['bathrooms'].apply(lambda x: np.abs(x - new_listing))\n",
    "    temp_df = temp_df.sort_values('distance')\n",
    "    nearest_neighbors_prices = temp_df.iloc[0:5]['price']\n",
    "    predicted_price = nearest_neighbors_prices.mean()\n",
    "    return(predicted_price)\n",
    "\n",
    "test_df['predicted_price'] = test_df['bathrooms'].apply(predict_price)\n",
    "\n",
    "test_df['squared_error']  = (test_df['price'] - test_df['predicted_price'])**2\n",
    "\n",
    "\n",
    "mse = test_df['squared_error'].mean()\n",
    "\n",
    "print(mse)\n"
   ]
  },
  {
   "cell_type": "markdown",
   "metadata": {},
   "source": [
    "Root mean squared error \n",
    "\n",
    "* error metric whose units are the base unit\n",
    "\n",
    "\n",
    "$ RMSE = \\sqrt{MSE}$"
   ]
  },
  {
   "cell_type": "code",
   "execution_count": 24,
   "metadata": {},
   "outputs": [
    {
     "data": {
      "text/plain": [
       "135.66666532952246"
      ]
     },
     "execution_count": 24,
     "metadata": {},
     "output_type": "execute_result"
    }
   ],
   "source": [
    "np.sqrt(mse)"
   ]
  },
  {
   "cell_type": "code",
   "execution_count": 25,
   "metadata": {},
   "outputs": [],
   "source": [
    "errors_one = pd.Series([5, 10, 5, 10, 5, 10, 5, 10, 5, 10, 5, 10, 5, 10, 5, 10, 5, 10])\n",
    "errors_two = pd.Series([5, 10, 5, 10, 5, 10, 5, 10, 5, 10, 5, 10, 5, 10, 5, 10, 5, 1000])"
   ]
  },
  {
   "cell_type": "code",
   "execution_count": 31,
   "metadata": {},
   "outputs": [],
   "source": [
    "mae_one = np.mean(errors_one)\n",
    "mse_one = np.mean(np.square(errors_one))\n",
    "rmse_one = np.sqrt(mse_one)\n",
    "\n",
    "\n",
    "mae_two = np.mean(errors_two)\n",
    "mse_two = np.mean(np.square(errors_two))\n",
    "rmse_two = np.sqrt(mse_two)"
   ]
  },
  {
   "cell_type": "markdown",
   "metadata": {},
   "source": [
    "---\n",
    "\n",
    "# Multivariate K-Nearest Neighbors\n",
    "\n",
    "2 ways we can tweak the model to try to improve the accuracy (decrease the RMSE during validation)\n",
    "\n",
    "> increase the number of attributes the model uses to calculate similarity when ranking the closest neighbors\n",
    "\n",
    "> increase k, the number of nearby neighbors the model uses when computing the prediction\n",
    "\n",
    "to watch out for columns that don't work well with the distance equation. This includes columns containing:\n",
    "\n",
    "```\n",
    "non-numerical values (e.g. city or state)\n",
    "Euclidean distance equation expects numerical values\n",
    "missing values\n",
    "distance equation expects a value for each observation and attribute\n",
    "non-ordinal values (e.g. latitude or longitude)\n",
    "ranking by Euclidean distance doesn't make sense if all attributes aren't ordinal\n",
    "```"
   ]
  },
  {
   "cell_type": "code",
   "execution_count": 32,
   "metadata": {},
   "outputs": [],
   "source": [
    "import pandas as pd\n",
    "import numpy as np\n",
    "np.random.seed(1)\n",
    "\n",
    "dc_listings = pd.read_csv('dc_airbnb.csv')\n",
    "dc_listings = dc_listings.loc[np.random.permutation(len(dc_listings))]\n",
    "stripped_commas = dc_listings['price'].str.replace(',', '')\n",
    "stripped_dollars = stripped_commas.str.replace('$', '')\n",
    "dc_listings['price'] = stripped_dollars.astype('float')"
   ]
  },
  {
   "cell_type": "code",
   "execution_count": 33,
   "metadata": {},
   "outputs": [
    {
     "data": {
      "text/plain": [
       "Index(['host_response_rate', 'host_acceptance_rate', 'host_listings_count',\n",
       "       'accommodates', 'room_type', 'bedrooms', 'bathrooms', 'beds', 'price',\n",
       "       'cleaning_fee', 'security_deposit', 'minimum_nights', 'maximum_nights',\n",
       "       'number_of_reviews', 'latitude', 'longitude', 'city', 'zipcode',\n",
       "       'state'],\n",
       "      dtype='object')"
      ]
     },
     "execution_count": 33,
     "metadata": {},
     "output_type": "execute_result"
    }
   ],
   "source": [
    "dc_listings.columns"
   ]
  },
  {
   "cell_type": "code",
   "execution_count": 37,
   "metadata": {},
   "outputs": [],
   "source": [
    "dc_listings.drop(['room_type','city','state','latitude','longitude','zipcode','host_response_rate','host_acceptance_rate','host_listings_count'],axis=1,inplace=True)"
   ]
  },
  {
   "cell_type": "code",
   "execution_count": 38,
   "metadata": {},
   "outputs": [],
   "source": [
    "dc_listings.drop(['cleaning_fee','security_deposit'],axis=1,inplace=True)"
   ]
  },
  {
   "cell_type": "code",
   "execution_count": 39,
   "metadata": {},
   "outputs": [
    {
     "data": {
      "text/html": [
       "<div>\n",
       "<style scoped>\n",
       "    .dataframe tbody tr th:only-of-type {\n",
       "        vertical-align: middle;\n",
       "    }\n",
       "\n",
       "    .dataframe tbody tr th {\n",
       "        vertical-align: top;\n",
       "    }\n",
       "\n",
       "    .dataframe thead th {\n",
       "        text-align: right;\n",
       "    }\n",
       "</style>\n",
       "<table border=\"1\" class=\"dataframe\">\n",
       "  <thead>\n",
       "    <tr style=\"text-align: right;\">\n",
       "      <th></th>\n",
       "      <th>accommodates</th>\n",
       "      <th>bedrooms</th>\n",
       "      <th>bathrooms</th>\n",
       "      <th>beds</th>\n",
       "      <th>price</th>\n",
       "      <th>minimum_nights</th>\n",
       "      <th>maximum_nights</th>\n",
       "      <th>number_of_reviews</th>\n",
       "    </tr>\n",
       "  </thead>\n",
       "  <tbody>\n",
       "    <tr>\n",
       "      <th>574</th>\n",
       "      <td>2</td>\n",
       "      <td>1.0</td>\n",
       "      <td>1.0</td>\n",
       "      <td>1.0</td>\n",
       "      <td>125.0</td>\n",
       "      <td>1</td>\n",
       "      <td>4</td>\n",
       "      <td>149</td>\n",
       "    </tr>\n",
       "    <tr>\n",
       "      <th>1593</th>\n",
       "      <td>2</td>\n",
       "      <td>1.0</td>\n",
       "      <td>1.5</td>\n",
       "      <td>1.0</td>\n",
       "      <td>85.0</td>\n",
       "      <td>1</td>\n",
       "      <td>30</td>\n",
       "      <td>49</td>\n",
       "    </tr>\n",
       "    <tr>\n",
       "      <th>3091</th>\n",
       "      <td>1</td>\n",
       "      <td>1.0</td>\n",
       "      <td>0.5</td>\n",
       "      <td>1.0</td>\n",
       "      <td>50.0</td>\n",
       "      <td>1</td>\n",
       "      <td>1125</td>\n",
       "      <td>1</td>\n",
       "    </tr>\n",
       "    <tr>\n",
       "      <th>420</th>\n",
       "      <td>2</td>\n",
       "      <td>1.0</td>\n",
       "      <td>1.0</td>\n",
       "      <td>1.0</td>\n",
       "      <td>209.0</td>\n",
       "      <td>4</td>\n",
       "      <td>730</td>\n",
       "      <td>2</td>\n",
       "    </tr>\n",
       "    <tr>\n",
       "      <th>808</th>\n",
       "      <td>12</td>\n",
       "      <td>5.0</td>\n",
       "      <td>2.0</td>\n",
       "      <td>5.0</td>\n",
       "      <td>215.0</td>\n",
       "      <td>2</td>\n",
       "      <td>1825</td>\n",
       "      <td>34</td>\n",
       "    </tr>\n",
       "  </tbody>\n",
       "</table>\n",
       "</div>"
      ],
      "text/plain": [
       "      accommodates  bedrooms  bathrooms  beds  price  minimum_nights  \\\n",
       "574              2       1.0        1.0   1.0  125.0               1   \n",
       "1593             2       1.0        1.5   1.0   85.0               1   \n",
       "3091             1       1.0        0.5   1.0   50.0               1   \n",
       "420              2       1.0        1.0   1.0  209.0               4   \n",
       "808             12       5.0        2.0   5.0  215.0               2   \n",
       "\n",
       "      maximum_nights  number_of_reviews  \n",
       "574                4                149  \n",
       "1593              30                 49  \n",
       "3091            1125                  1  \n",
       "420              730                  2  \n",
       "808             1825                 34  "
      ]
     },
     "execution_count": 39,
     "metadata": {},
     "output_type": "execute_result"
    }
   ],
   "source": [
    "dc_listings.head()"
   ]
  },
  {
   "cell_type": "code",
   "execution_count": 42,
   "metadata": {},
   "outputs": [],
   "source": [
    "dc_listings.dropna(axis=0,subset=['bedrooms','bathrooms','beds'],inplace=True)"
   ]
  },
  {
   "cell_type": "code",
   "execution_count": 50,
   "metadata": {},
   "outputs": [
    {
     "data": {
      "text/plain": [
       "accommodates         0\n",
       "bedrooms             0\n",
       "bathrooms            0\n",
       "beds                 0\n",
       "price                0\n",
       "minimum_nights       0\n",
       "maximum_nights       0\n",
       "number_of_reviews    0\n",
       "dtype: int64"
      ]
     },
     "execution_count": 50,
     "metadata": {},
     "output_type": "execute_result"
    }
   ],
   "source": [
    "dc_listings.isnull().sum()"
   ]
  },
  {
   "cell_type": "markdown",
   "metadata": {},
   "source": [
    "# Normalization \n",
    "\n",
    "because of the way Euclidean distance is calculated, these listings would be considered very far apart because of the outsized effect the largeness of the values had on the overall Euclidean distance. To prevent any single column from having too much of an impact on the distance, we can normalize all of the columns to have a mean of 0 and a standard deviation of 1.\n",
    "\n",
    "\n",
    "> Normalizing the values in each column to the standard normal distribution (mean of 0, standard deviation of 1) preserves the distribution of the values in each column while aligning the scales. To normalize the values in a column to the standard normal distribution\n",
    "\n",
    "$ \\large x = \\frac{x - \\mu}{\\sigma}$ "
   ]
  },
  {
   "cell_type": "code",
   "execution_count": 54,
   "metadata": {},
   "outputs": [],
   "source": [
    "normalized_listings = (dc_listings - dc_listings.mean())/dc_listings.std()\n",
    "\n",
    "normalized_listings['price'] = dc_listings['price']\n"
   ]
  },
  {
   "cell_type": "code",
   "execution_count": 55,
   "metadata": {},
   "outputs": [
    {
     "data": {
      "text/html": [
       "<div>\n",
       "<style scoped>\n",
       "    .dataframe tbody tr th:only-of-type {\n",
       "        vertical-align: middle;\n",
       "    }\n",
       "\n",
       "    .dataframe tbody tr th {\n",
       "        vertical-align: top;\n",
       "    }\n",
       "\n",
       "    .dataframe thead th {\n",
       "        text-align: right;\n",
       "    }\n",
       "</style>\n",
       "<table border=\"1\" class=\"dataframe\">\n",
       "  <thead>\n",
       "    <tr style=\"text-align: right;\">\n",
       "      <th></th>\n",
       "      <th>accommodates</th>\n",
       "      <th>bedrooms</th>\n",
       "      <th>bathrooms</th>\n",
       "      <th>beds</th>\n",
       "      <th>price</th>\n",
       "      <th>minimum_nights</th>\n",
       "      <th>maximum_nights</th>\n",
       "      <th>number_of_reviews</th>\n",
       "    </tr>\n",
       "  </thead>\n",
       "  <tbody>\n",
       "    <tr>\n",
       "      <th>574</th>\n",
       "      <td>-0.596544</td>\n",
       "      <td>-0.249467</td>\n",
       "      <td>-0.439151</td>\n",
       "      <td>-0.546858</td>\n",
       "      <td>125.0</td>\n",
       "      <td>-0.341375</td>\n",
       "      <td>-0.016604</td>\n",
       "      <td>4.579650</td>\n",
       "    </tr>\n",
       "    <tr>\n",
       "      <th>1593</th>\n",
       "      <td>-0.596544</td>\n",
       "      <td>-0.249467</td>\n",
       "      <td>0.412923</td>\n",
       "      <td>-0.546858</td>\n",
       "      <td>85.0</td>\n",
       "      <td>-0.341375</td>\n",
       "      <td>-0.016603</td>\n",
       "      <td>1.159275</td>\n",
       "    </tr>\n",
       "    <tr>\n",
       "      <th>3091</th>\n",
       "      <td>-1.095499</td>\n",
       "      <td>-0.249467</td>\n",
       "      <td>-1.291226</td>\n",
       "      <td>-0.546858</td>\n",
       "      <td>50.0</td>\n",
       "      <td>-0.341375</td>\n",
       "      <td>-0.016573</td>\n",
       "      <td>-0.482505</td>\n",
       "    </tr>\n",
       "  </tbody>\n",
       "</table>\n",
       "</div>"
      ],
      "text/plain": [
       "      accommodates  bedrooms  bathrooms      beds  price  minimum_nights  \\\n",
       "574      -0.596544 -0.249467  -0.439151 -0.546858  125.0       -0.341375   \n",
       "1593     -0.596544 -0.249467   0.412923 -0.546858   85.0       -0.341375   \n",
       "3091     -1.095499 -0.249467  -1.291226 -0.546858   50.0       -0.341375   \n",
       "\n",
       "      maximum_nights  number_of_reviews  \n",
       "574        -0.016604           4.579650  \n",
       "1593       -0.016603           1.159275  \n",
       "3091       -0.016573          -0.482505  "
      ]
     },
     "execution_count": 55,
     "metadata": {},
     "output_type": "execute_result"
    }
   ],
   "source": [
    "normalized_listings.head(3)"
   ]
  },
  {
   "cell_type": "markdown",
   "metadata": {},
   "source": [
    "## Euclidean distance for multivariate case\n",
    "\n",
    "\n",
    "$ d = \\sqrt{(q_1 - p_1)^2 + (q_2 - p_2)^2 + ... +(q_n - p_n)^2}$\n",
    "\n",
    "<br>\n",
    "\n",
    "<img src=\"img/distance_two_features.png\">"
   ]
  },
  {
   "cell_type": "code",
   "execution_count": 56,
   "metadata": {},
   "outputs": [
    {
     "data": {
      "text/plain": [
       "0.852074"
      ]
     },
     "execution_count": 56,
     "metadata": {},
     "output_type": "execute_result"
    }
   ],
   "source": [
    "from scipy.spatial import distance\n",
    "first_listing = [-0.596544, -0.439151]\n",
    "second_listing = [-0.596544, 0.412923]\n",
    "dist = distance.euclidean(first_listing, second_listing)\n",
    "dist"
   ]
  },
  {
   "cell_type": "code",
   "execution_count": 75,
   "metadata": {},
   "outputs": [],
   "source": [
    "# normalized_listings.iloc[0][['accommodates','bathrooms']]"
   ]
  },
  {
   "cell_type": "code",
   "execution_count": 74,
   "metadata": {},
   "outputs": [
    {
     "name": "stdout",
     "output_type": "stream",
     "text": [
      "5.272543124668404\n"
     ]
    }
   ],
   "source": [
    "first_fifth_distance = distance.euclidean(normalized_listings[['accommodates','bathrooms']].iloc[0],normalized_listings[['accommodates','bathrooms']].iloc[4])\n",
    "print(first_fifth_distance)"
   ]
  },
  {
   "cell_type": "markdown",
   "metadata": {},
   "source": [
    "---\n",
    "# Scikit Learn\n",
    "\n",
    "\n",
    "> Any model that helps us predict numerical values, like listing price in our case, is known as a regression model. \n",
    "\n",
    "> The other main class of machine learning models is called classification, where we're trying to predict a label from a fixed set of labels\n"
   ]
  },
  {
   "cell_type": "code",
   "execution_count": null,
   "metadata": {},
   "outputs": [],
   "source": []
  }
 ],
 "metadata": {
  "kernelspec": {
   "display_name": "Python 3.6.4 64-bit",
   "language": "python",
   "name": "python36464bit49be060b4cd54268b608c867974433c7"
  },
  "language_info": {
   "codemirror_mode": {
    "name": "ipython",
    "version": 3
   },
   "file_extension": ".py",
   "mimetype": "text/x-python",
   "name": "python",
   "nbconvert_exporter": "python",
   "pygments_lexer": "ipython3",
   "version": "3.6.4"
  },
  "latex_envs": {
   "LaTeX_envs_menu_present": true,
   "autoclose": false,
   "autocomplete": true,
   "bibliofile": "biblio.bib",
   "cite_by": "apalike",
   "current_citInitial": 1,
   "eqLabelWithNumbers": true,
   "eqNumInitial": 1,
   "hotkeys": {
    "equation": "Ctrl-E",
    "itemize": "Ctrl-I"
   },
   "labels_anchors": false,
   "latex_user_defs": false,
   "report_style_numbering": false,
   "user_envs_cfg": false
  }
 },
 "nbformat": 4,
 "nbformat_minor": 2
}
